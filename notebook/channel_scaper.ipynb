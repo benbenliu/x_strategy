{
 "cells": [
  {
   "cell_type": "code",
   "execution_count": null,
   "metadata": {},
   "outputs": [],
   "source": [
    "# open chrome window using selenium without headless mode and navigate to https://telega.io\n",
    "from selenium import webdriver\n",
    "from selenium.webdriver.chrome.service import Service\n",
    "from selenium.webdriver.common.by import By\n",
    "from selenium.webdriver.chrome.options import Options\n",
    "import time\n",
    "from selenium.webdriver.support.ui import WebDriverWait\n",
    "from selenium.webdriver.support import expected_conditions as EC\n",
    "from bs4 import BeautifulSoup\n",
    "import re\n",
    "import pandas as pd\n",
    "\n",
    "# Set the path to the ChromeDriver you downloaded\n",
    "chrome_driver_path = \"/Users/yueliu/Downloads/chromedriver\"\n",
    "\n",
    "# Set up Chrome options (e.g., run headless for scraping without opening a browser)\n",
    "chrome_options = Options()\n",
    "# chrome_options.add_argument(\"--headless\")  # Optional: use for headless mode (no browser UI)\n",
    "\n",
    "# Create a new Chrome session\n",
    "service = Service(chrome_driver_path)\n",
    "driver = webdriver.Chrome(service=service, options=chrome_options)\n",
    "\n",
    "# Navigate to the website\n",
    "driver.get('https://telega.io/catalog')\n",
    "\n",
    "login_element = WebDriverWait(driver, 10).until(\n",
    "        EC.element_to_be_clickable((By.XPATH, \"//*[text()='Log in']\"))\n",
    "    )\n",
    "login_element.click()\n",
    "\n",
    "# input email and password\n",
    "email_element = WebDriverWait(driver, 10).until(\n",
    "        EC.element_to_be_clickable((By.XPATH, \"//*[@id='form_sing_in']/div[1]/div[1]/div[1]/input\"))\n",
    "    )\n",
    "email_element.send_keys(\"benliu20131124@gmail.com\")\n",
    "\n",
    "pw_element = WebDriverWait(driver, 10).until(\n",
    "        EC.element_to_be_clickable((By.XPATH, \"//*[@id='user_password']\"))\n",
    "    )\n",
    "pw_element.send_keys(\"q6f5sljx\")\n",
    "\n",
    "login_button_element = WebDriverWait(driver, 10).until(\n",
    "        EC.element_to_be_clickable((By.XPATH, \"//*[@id='form_sing_in']/div[3]/div[2]\"))\n",
    "    )\n",
    "login_button_element.click()\n",
    "driver.get('https://telega.io/catalog')"
   ]
  },
  {
   "cell_type": "markdown",
   "metadata": {},
   "source": [
    "# select topic"
   ]
  },
  {
   "cell_type": "code",
   "execution_count": null,
   "metadata": {},
   "outputs": [],
   "source": [
    "topic = \"Trading\""
   ]
  },
  {
   "cell_type": "code",
   "execution_count": null,
   "metadata": {},
   "outputs": [],
   "source": [
    "all_topics_element = WebDriverWait(driver, 10).until(\n",
    "        EC.element_to_be_clickable((By.XPATH, \"//*[text()='All topics']\"))\n",
    "    )\n",
    "all_topics_element.click()\n",
    "\n",
    "# Wait for the \"Cryptocurrencies\" option to be visible and click it\n",
    "crypto_element = WebDriverWait(driver, 10).until(\n",
    "    EC.element_to_be_clickable((By.XPATH, f\"//*[text()='{topic}']\"))\n",
    ")\n",
    "crypto_element.click()"
   ]
  },
  {
   "cell_type": "markdown",
   "metadata": {},
   "source": [
    "# get channel list"
   ]
  },
  {
   "cell_type": "code",
   "execution_count": null,
   "metadata": {},
   "outputs": [],
   "source": [
    "\n",
    "data = []\n",
    "seen_channels = set()\n",
    "\n",
    "for i in range(10):\n",
    "    if i > 0:\n",
    "        driver.execute_script(\"window.scrollTo(0, document.body.scrollHeight);\")\n",
    "        try:\n",
    "            all_topics_element = WebDriverWait(driver, 10).until(\n",
    "            EC.element_to_be_clickable((By.XPATH, \"//*[text()='More channels']\"))\n",
    "                )\n",
    "            all_topics_element.click()\n",
    "        except:\n",
    "            break\n",
    "    soup = BeautifulSoup(driver.page_source)\n",
    "    all_channels = soup.find_all('div', class_='catalog_channels')[0].find_all(id=re.compile(r'^channels:\\d+$'))\n",
    "    for channel in all_channels:\n",
    "        \n",
    "        # Extract the channel name\n",
    "        channel_name = channel.find('span', class_='font-18px bold').text.strip()\n",
    "        if channel_name in seen_channels:\n",
    "            continue\n",
    "        print(channel_name)\n",
    "        # Extract the number of followers\n",
    "        followers = channel.find('div', class_='channel-users-count').find('span', class_='font-18px desck color-headline').text.strip()\n",
    "\n",
    "        # Extract the price\n",
    "        price = channel.find('div', class_='current_price text_price js-price').find('span', class_='amount en').text.strip()\n",
    "        \n",
    "        # telego channel link\n",
    "        channel_link = 'https://telega.io'+channel.find('a', class_='about-avatar')['href']\n",
    "        \n",
    "        # extract view\n",
    "        # view = channel.find('span', class_='font-18px desck color-headline js-view').text.strip()\n",
    "        view = None\n",
    "        male_ratio = channel.find('div', class_='progressbar').find('span')['style'].replace('width: ', '')\n",
    "        reach_ratio = channel.find('span', class_='font-18px desck color-headline js-err').text\n",
    "        # visit the link\n",
    "        # driver.get(channel_link)\n",
    "        \n",
    "        # channel_page_soup = BeautifulSoup(driver.page_source)\n",
    "        # tg_link = channel_page_soup.find('a', class_='about-link').text\n",
    "        row = {'channel_name': channel_name, 'followers': followers, 'price': price, 'telega_link': channel_link,\n",
    "               'view': view, 'male_ratio': male_ratio, 'reach_ratio': reach_ratio}\n",
    "        data.append(row)\n",
    "        seen_channels.add(channel_name)\n",
    "        print(row)\n",
    "        # go back to previous page\n",
    "        # driver.back()\n",
    "\n",
    "df = pd.DataFrame(data)\n",
    "print(df.shape)\n",
    "display(df.head())"
   ]
  },
  {
   "cell_type": "markdown",
   "metadata": {},
   "source": [
    "# get channel details"
   ]
  },
  {
   "cell_type": "code",
   "execution_count": null,
   "metadata": {},
   "outputs": [],
   "source": [
    "tglinks = []\n",
    "langs = []\n",
    "views = []\n",
    "skip_up_to = 0\n",
    "\n",
    "def extract_channel_info(soup):\n",
    "    tg_link = channel_page_soup.find('a', class_='about-link').text\n",
    "    language = channel_page_soup.find('div', class_='lang').find('div', class_='body-bold-x4').text\n",
    "    view = channel_page_soup.find('div', class_=\"about-head-view tooltip-top tooltipstered\").text\n",
    "    return tg_link, language, view\n",
    "\n",
    "\n",
    "for index, row in df.iterrows():\n",
    "    print(index)\n",
    "    html_file_path = f'channel_card_html/{row[\"telega_link\"].replace(\"https://telega.io/channels/\", \"\").replace(\"/card\", \"\")}.html'\n",
    "    if index < skip_up_to:\n",
    "        with open(html_file_path, 'r') as f:\n",
    "            html = f.read()\n",
    "        channel_page_soup = BeautifulSoup(html)\n",
    "    else:\n",
    "        driver.get(row['telega_link'])\n",
    "        channel_page_soup = BeautifulSoup(driver.page_source)\n",
    "        with open(html_file_path, 'w') as f:\n",
    "            f.write(driver.page_source)\n",
    "    tg_link, language, view = extract_channel_info(channel_page_soup)\n",
    "    tglinks.append(tg_link)\n",
    "    langs.append(language)\n",
    "    views.append(view)\n",
    "    print(tg_link)\n"
   ]
  },
  {
   "cell_type": "markdown",
   "metadata": {},
   "source": [
    "# write results"
   ]
  },
  {
   "cell_type": "code",
   "execution_count": null,
   "metadata": {},
   "outputs": [],
   "source": [
    "df['tg_link'] = tglinks\n",
    "df['language'] = langs\n",
    "df['view'] = views\n",
    "df.to_csv(f'{topic.lower().replace(\" \", \"_\")}_channels.csv', index=False)"
   ]
  },
  {
   "cell_type": "markdown",
   "metadata": {},
   "source": []
  }
 ],
 "metadata": {
  "kernelspec": {
   "display_name": "x_strategy",
   "language": "python",
   "name": "python3"
  },
  "language_info": {
   "name": "python",
   "version": "3.10.14"
  }
 },
 "nbformat": 4,
 "nbformat_minor": 2
}
